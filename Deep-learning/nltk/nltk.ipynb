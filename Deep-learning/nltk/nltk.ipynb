{
  "nbformat": 4,
  "nbformat_minor": 0,
  "metadata": {
    "colab": {
      "provenance": [],
      "authorship_tag": "ABX9TyMke1sM4PctJpDsI/O8bbxa",
      "include_colab_link": true
    },
    "kernelspec": {
      "name": "python3",
      "display_name": "Python 3"
    },
    "language_info": {
      "name": "python"
    }
  },
  "cells": [
    {
      "cell_type": "markdown",
      "metadata": {
        "id": "view-in-github",
        "colab_type": "text"
      },
      "source": [
        "<a href=\"https://colab.research.google.com/github/arikaran007/ML-Prediction/blob/main/Deep-learning/nltk/nltk.ipynb\" target=\"_parent\"><img src=\"https://colab.research.google.com/assets/colab-badge.svg\" alt=\"Open In Colab\"/></a>"
      ]
    },
    {
      "cell_type": "markdown",
      "source": [
        "Hierarchy of Text"
      ],
      "metadata": {
        "id": "I69qDJQyAimk"
      }
    },
    {
      "cell_type": "code",
      "execution_count": null,
      "metadata": {
        "id": "TDsAsT2K_Brg"
      },
      "outputs": [],
      "source": [
        "import nltk\n",
        "from nltk import *\n",
        "sent = \"India is a republic nation. We are proud Indians\""
      ]
    },
    {
      "cell_type": "code",
      "source": [
        "print(len(sent))\n",
        "print(sent[0:5])"
      ],
      "metadata": {
        "colab": {
          "base_uri": "https://localhost:8080/"
        },
        "id": "EPANi6CEAfZq",
        "outputId": "7b79765a-629f-44e4-e09d-abe1a2690c4c"
      },
      "execution_count": null,
      "outputs": [
        {
          "output_type": "stream",
          "name": "stdout",
          "text": [
            "48\n",
            "India\n"
          ]
        }
      ]
    },
    {
      "cell_type": "markdown",
      "source": [
        "Tokens"
      ],
      "metadata": {
        "id": "XJKAZmNzAut0"
      }
    },
    {
      "cell_type": "code",
      "source": [
        "nltk.download('punkt')"
      ],
      "metadata": {
        "colab": {
          "base_uri": "https://localhost:8080/"
        },
        "id": "WrGW8D-MBW2d",
        "outputId": "21e9ad99-009c-4435-c6f3-85a019531269"
      },
      "execution_count": null,
      "outputs": [
        {
          "output_type": "stream",
          "name": "stderr",
          "text": [
            "[nltk_data] Downloading package punkt to /root/nltk_data...\n",
            "[nltk_data]   Unzipping tokenizers/punkt.zip.\n"
          ]
        },
        {
          "output_type": "execute_result",
          "data": {
            "text/plain": [
              "True"
            ]
          },
          "metadata": {},
          "execution_count": 5
        }
      ]
    },
    {
      "cell_type": "code",
      "source": [
        "print(nltk.word_tokenize(sent))"
      ],
      "metadata": {
        "colab": {
          "base_uri": "https://localhost:8080/"
        },
        "id": "IAiI-z0KArqP",
        "outputId": "92ea0c3e-561d-4544-dc82-ff8b04d24c7d"
      },
      "execution_count": null,
      "outputs": [
        {
          "output_type": "stream",
          "name": "stdout",
          "text": [
            "['India', 'is', 'a', 'republic', 'nation', '.', 'We', 'are', 'proud', 'Indians']\n"
          ]
        }
      ]
    },
    {
      "cell_type": "markdown",
      "source": [
        "Vocabulary"
      ],
      "metadata": {
        "id": "Crhbc_1CBfkw"
      }
    },
    {
      "cell_type": "code",
      "source": [
        "tokens = nltk.word_tokenize(sent)\n",
        "vocab = sorted(set(tokens))\n",
        "print(vocab)"
      ],
      "metadata": {
        "colab": {
          "base_uri": "https://localhost:8080/"
        },
        "id": "qgbWP18jA_ex",
        "outputId": "d69c2824-ef3d-4ec5-bb85-2d96d8310955"
      },
      "execution_count": null,
      "outputs": [
        {
          "output_type": "stream",
          "name": "stdout",
          "text": [
            "['.', 'India', 'Indians', 'We', 'a', 'are', 'is', 'nation', 'proud', 'republic']\n"
          ]
        }
      ]
    },
    {
      "cell_type": "markdown",
      "source": [
        "Punctuation\n",
        "\n",
        "Punctuation refers to symbols used  to separate sentences and their elements and to clarify meaning."
      ],
      "metadata": {
        "id": "A4V4BLspCKEP"
      }
    },
    {
      "cell_type": "code",
      "source": [
        "from string import punctuation\n",
        "vocab_pun = []\n",
        "for i in vocab:\n",
        "  if i not in punctuation:\n",
        "    vocab_pun.append(i)\n",
        "\n",
        "print(vocab_pun)"
      ],
      "metadata": {
        "colab": {
          "base_uri": "https://localhost:8080/"
        },
        "id": "4eOuyPrHBxCO",
        "outputId": "c9482991-6f82-43f9-e37b-9de915cf4bde"
      },
      "execution_count": null,
      "outputs": [
        {
          "output_type": "stream",
          "name": "stdout",
          "text": [
            "['India', 'Indians', 'We', 'a', 'are', 'is', 'nation', 'proud', 'republic']\n"
          ]
        }
      ]
    },
    {
      "cell_type": "markdown",
      "source": [
        "Part of Speech"
      ],
      "metadata": {
        "id": "iMH3DaYOCyNf"
      }
    },
    {
      "cell_type": "code",
      "source": [
        " nltk.download('averaged_perceptron_tagger')"
      ],
      "metadata": {
        "colab": {
          "base_uri": "https://localhost:8080/"
        },
        "id": "D78CUSxFDGjL",
        "outputId": "44dca62d-2dba-4dd0-a2c8-2d29f04c5176"
      },
      "execution_count": null,
      "outputs": [
        {
          "output_type": "stream",
          "name": "stderr",
          "text": [
            "[nltk_data] Downloading package averaged_perceptron_tagger to\n",
            "[nltk_data]     /root/nltk_data...\n",
            "[nltk_data]   Unzipping taggers/averaged_perceptron_tagger.zip.\n"
          ]
        },
        {
          "output_type": "execute_result",
          "data": {
            "text/plain": [
              "True"
            ]
          },
          "metadata": {},
          "execution_count": 10
        }
      ]
    },
    {
      "cell_type": "code",
      "source": [
        "from nltk import pos_tag\n",
        "pos_list = pos_tag(vocab_pun)\n",
        "print(pos_list)"
      ],
      "metadata": {
        "colab": {
          "base_uri": "https://localhost:8080/"
        },
        "id": "nRhZ4IvOCuhT",
        "outputId": "2349d8d4-ffc7-4bc8-9ff8-32ef0b5c16b4"
      },
      "execution_count": null,
      "outputs": [
        {
          "output_type": "stream",
          "name": "stdout",
          "text": [
            "[('India', 'NNP'), ('Indians', 'NNPS'), ('We', 'PRP'), ('a', 'DT'), ('are', 'VBP'), ('is', 'VBZ'), ('nation', 'NN'), ('proud', 'JJ'), ('republic', 'NN')]\n"
          ]
        }
      ]
    },
    {
      "cell_type": "markdown",
      "source": [
        "Root of a word - Stemming\n",
        "\n",
        "Stemming is a technique used to find the root form of a word. In the root form a word is devoid of any affixes (suffixes and prefixes)"
      ],
      "metadata": {
        "id": "kqSSW2AmDNzY"
      }
    },
    {
      "cell_type": "code",
      "source": [
        "from nltk.stem.snowball import SnowballStemmer\n",
        "stemObj = SnowballStemmer(\"english\")\n",
        "stemObj.stem(\"Studying\")\n",
        "stemmed_vocab=[]\n",
        "stemObj = SnowballStemmer(\"english\")\n",
        "for i in vocab_pun:\n",
        "    stemmed_vocab.append(stemObj.stem(i))\n",
        "print(stemmed_vocab)"
      ],
      "metadata": {
        "colab": {
          "base_uri": "https://localhost:8080/"
        },
        "id": "JueO6ieeDDCj",
        "outputId": "63a9e55b-812f-466a-844a-db08bb22790a"
      },
      "execution_count": null,
      "outputs": [
        {
          "output_type": "stream",
          "name": "stdout",
          "text": [
            "['india', 'indian', 'we', 'a', 'are', 'is', 'nation', 'proud', 'republ']\n"
          ]
        }
      ]
    },
    {
      "cell_type": "markdown",
      "source": [
        "Base of a word - Lemmatization\n",
        "\n",
        "Lemmatization removes inflection and reduces the word to its base form"
      ],
      "metadata": {
        "id": "pucBrNOHE8l_"
      }
    },
    {
      "cell_type": "code",
      "source": [
        "nltk.download('wordnet')"
      ],
      "metadata": {
        "colab": {
          "base_uri": "https://localhost:8080/"
        },
        "id": "iQELjBfoFKZx",
        "outputId": "7735b0a8-d92d-4beb-f121-2d74aefbec5f"
      },
      "execution_count": null,
      "outputs": [
        {
          "output_type": "stream",
          "name": "stderr",
          "text": [
            "[nltk_data] Downloading package wordnet to /root/nltk_data...\n"
          ]
        },
        {
          "output_type": "execute_result",
          "data": {
            "text/plain": [
              "True"
            ]
          },
          "metadata": {},
          "execution_count": 15
        }
      ]
    },
    {
      "cell_type": "code",
      "source": [
        "from nltk.stem.wordnet import WordNetLemmatizer\n",
        "lemmaObj =  WordNetLemmatizer()\n",
        "lemmaObj.lemmatize(\"went\",pos='v')"
      ],
      "metadata": {
        "colab": {
          "base_uri": "https://localhost:8080/",
          "height": 35
        },
        "id": "5NBgNVViExUG",
        "outputId": "ee8fe873-42e4-4f9f-c812-ad687e69132a"
      },
      "execution_count": null,
      "outputs": [
        {
          "output_type": "execute_result",
          "data": {
            "text/plain": [
              "'go'"
            ],
            "application/vnd.google.colaboratory.intrinsic+json": {
              "type": "string"
            }
          },
          "metadata": {},
          "execution_count": 16
        }
      ]
    },
    {
      "cell_type": "markdown",
      "source": [
        "Stop words\n",
        "\n",
        "Stop words are typically the most commonly occurring words in text like 'the', 'and', 'is', etc.\n",
        "\n",
        "NLTK provides a pre-defined set of stopwords for English, as shown"
      ],
      "metadata": {
        "id": "kO36yWDyFPEJ"
      }
    },
    {
      "cell_type": "code",
      "source": [
        " nltk.download('stopwords')"
      ],
      "metadata": {
        "id": "OiJryBRYFV_K",
        "outputId": "e1df8cda-45b7-42d7-c9a1-1c6e2232916d",
        "colab": {
          "base_uri": "https://localhost:8080/"
        }
      },
      "execution_count": null,
      "outputs": [
        {
          "output_type": "stream",
          "name": "stderr",
          "text": [
            "[nltk_data] Downloading package stopwords to /root/nltk_data...\n",
            "[nltk_data]   Unzipping corpora/stopwords.zip.\n"
          ]
        },
        {
          "output_type": "execute_result",
          "data": {
            "text/plain": [
              "True"
            ]
          },
          "metadata": {},
          "execution_count": 18
        }
      ]
    },
    {
      "cell_type": "code",
      "source": [
        "from nltk.corpus import stopwords\n",
        "wo_stop_words = []\n",
        "stop_words_set = set(stopwords.words(\"english\"))\n",
        "for i in vocab_pun:\n",
        "    if i not in stop_words_set:\n",
        "        wo_stop_words.append(i)\n",
        "print(wo_stop_words)"
      ],
      "metadata": {
        "colab": {
          "base_uri": "https://localhost:8080/"
        },
        "id": "2wQpNXZjFHef",
        "outputId": "b2a67923-1614-4f54-84ab-e2020449a3ac"
      },
      "execution_count": null,
      "outputs": [
        {
          "output_type": "stream",
          "name": "stdout",
          "text": [
            "['India', 'Indians', 'We', 'nation', 'proud', 'republic']\n"
          ]
        }
      ]
    },
    {
      "cell_type": "code",
      "source": [],
      "metadata": {
        "id": "-aK8QXnMFThZ"
      },
      "execution_count": null,
      "outputs": []
    }
  ]
}