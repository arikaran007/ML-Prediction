{
  "nbformat": 4,
  "nbformat_minor": 0,
  "metadata": {
    "colab": {
      "provenance": [],
      "authorship_tag": "ABX9TyPChfJK0NouBRDjXrVYKKZS",
      "include_colab_link": true
    },
    "kernelspec": {
      "name": "python3",
      "display_name": "Python 3"
    },
    "language_info": {
      "name": "python"
    }
  },
  "cells": [
    {
      "cell_type": "markdown",
      "metadata": {
        "id": "view-in-github",
        "colab_type": "text"
      },
      "source": [
        "<a href=\"https://colab.research.google.com/github/arikaran007/ML-Prediction/blob/main/Topic_model/LDA/Topic_Modeling.ipynb\" target=\"_parent\"><img src=\"https://colab.research.google.com/assets/colab-badge.svg\" alt=\"Open In Colab\"/></a>"
      ]
    },
    {
      "cell_type": "code",
      "execution_count": 1,
      "metadata": {
        "id": "apE4UurUNrPF"
      },
      "outputs": [],
      "source": [
        "import nltk\n",
        "from nltk.corpus import stopwords\n",
        "from nltk.stem.wordnet import WordNetLemmatizer\n",
        "import string\n",
        "import gensim\n",
        "from gensim import corpora"
      ]
    },
    {
      "cell_type": "code",
      "source": [
        "nltk.download('stopwords')\n",
        "nltk.download('wordnet')"
      ],
      "metadata": {
        "colab": {
          "base_uri": "https://localhost:8080/"
        },
        "id": "mCq_939fSWv9",
        "outputId": "8460fd73-3ecc-4485-ace2-1e9253093674"
      },
      "execution_count": 2,
      "outputs": [
        {
          "output_type": "stream",
          "name": "stderr",
          "text": [
            "[nltk_data] Downloading package stopwords to /root/nltk_data...\n",
            "[nltk_data]   Package stopwords is already up-to-date!\n",
            "[nltk_data] Downloading package wordnet to /root/nltk_data...\n",
            "[nltk_data]   Package wordnet is already up-to-date!\n"
          ]
        },
        {
          "output_type": "execute_result",
          "data": {
            "text/plain": [
              "True"
            ]
          },
          "metadata": {},
          "execution_count": 2
        }
      ]
    },
    {
      "cell_type": "code",
      "source": [
        "docs1=\"Sugar causes blood glucose to spike and plummet. Unstable blood sugar often leads to mood swings, fatigue, headaches and cravings for more sugar. Cravings set the stage for a cycle of addiction in which every new hit of sugar makes you feel better temporarily but, a few hours later, results in more cravings and hunger. On the flip side, those who avoid sugar often report having little or no cravings for sugary things and feeling emotionally balanced and energized.\"\n",
        "docs2=\"Sugar increases the risk of obesity, diabetes and heart disease. Large-scale studies have shown that the more high-glycemic foods (those that quickly affect blood sugar), including foods containing sugar, a person consumes, the higher his risk for becoming obese and for developing diabetes and heart disease1. Emerging research is also suggesting connections between high-glycemic diets and many different forms of cancer.\"\n",
        "docs3=\"Sugar interferes with immune function. Research on human subjects is scant, but animal studies have shown that sugar suppresses immune response5. More research is needed to understand the exact mechanisms; however, we do know that bacteria and yeast feed on sugar and that, when these organisms get out of balance in the body, infections and illness are more likely.\"\n",
        "docs4=\"A high-sugar diet often results in chromium deficiency. Its sort of a catch-22. If you consume a lot of sugar and other refined carbohydrates, you probably dont get enough of the trace mineral chromium, and one of chromiums main functions is to help regulate blood sugar. Scientists estimate that 90 percent of Americans dont get enough chromium. Chromium is found in a variety of animal foods, seafood and plant foods. Refining starches and other carbohydrates rob these foods of their chromium supplies.\"\n",
        "docs5=\"Sugar accelerates aging. It even contributes to that telltale sign of aging: sagging skin. Some of the sugar you consume, after hitting your bloodstream, ends up attaching itself to proteins, in a process called glycation. These new molecular structures contribute to the loss of elasticity found in aging body tissues, from your skin to your organs and arteries7. The more sugar circulating in your blood, the faster this damage takes hold.\"\n",
        "docs6=\"Sugar causes tooth decay. With all the other life-threatening effects of sugar, we sometimes forget the most basic damage it does. When it sits on your teeth, it creates decay more efficiently than any other food substance8. For a strong visual reminder, next time the Tooth Fairy visits, try the old tooth-in-a-glass-of-Coke experiment—the results will surely convince you that sugar isnt good for your pearly whites.\"\n",
        "docs7=\"Sugar can cause gum disease, which can lead to heart disease. Increasing evidence shows that chronic infections, such as those that result from periodontal problems, play a role in the development of coronary artery disease9. The most popular theory is that the connection is related to widespread effects from the bodys inflammatory response to infection.\"\n",
        "docs7=\"Sugar affects behavior and cognition in children. Though it has been confirmed by millions of parents, most researchers have not been able to show the effect of sugar on childrens behavior. A possible problem with the research is that most of it compared the effects of a sugar-sweetened drink to one containing an artificial sweetener10. It may be that kids react to both real sugar and sugar substitutes, therefore showing no differences in behavior. What about kids ability to learn? Between 1979 and 1983, 803 New York City public schools reduced the amount of sucrose (table sugar) and eliminated artificial colors, flavors and two preservatives from school lunches and breakfasts. The diet policy changes were followed by a 15.7 percent increase in a national academic ranking (previously, the greatest improvement ever seen had been 1.7 percent).\"\n",
        "docs8=\"Sugar increases stress. When were under stress, our stress hormone levels rise; these chemicals are the bodys fight-or-flight emergency crew, sent out to prepare the body for an attack or an escape. These chemicals are also called into action when blood sugar is low. For example, after a blood-sugar spike (say, from eating a piece of birthday cake), theres a compensatory dive, which causes the body to release stress hormones such as adrenaline, epinephrine and cortisol. One of the main things these hormones do is raise blood sugar, providing the body with a quick energy boost. The problem is, these helpful hormones can make us feel anxious, irritable and shaky.\"\n",
        "docs9=\"Sugar takes the place of important nutrients. According to USDA data, people who consume the most sugar have the lowest intakes of essential nutrients––especially vitamin A, vitamin C, folate, vitamin B-12, calcium, phosphorous, magnesium and iron. Ironically, those who consume the most sugar are children and teenagers, the individuals who need these nutrients most12.\"\n",
        "docs10=\"Slashing Sugar. Now that you know the negative impacts refined sugar can have on your body and mind, youll want to be more careful about the foods you choose. And the first step is getting educated about where sugar lurks—believe it or not, a food neednt even taste all that sweet for it to be loaded with sugar. When it comes to convenience and packaged foods, let the ingredients label be your guide, and be aware that just because something boasts that it is low in carbs or a diet food, doesnt mean its free of sugar. Atkins products never contain added sugar.\""
      ],
      "metadata": {
        "id": "pDhzJnx_O74q"
      },
      "execution_count": 3,
      "outputs": []
    },
    {
      "cell_type": "code",
      "source": [
        "doc_complete=[docs1,docs2,docs3, docs4,docs5,docs6,docs7,docs8,docs9,docs10]"
      ],
      "metadata": {
        "id": "r76uX0_jPDs7"
      },
      "execution_count": 4,
      "outputs": []
    },
    {
      "cell_type": "code",
      "source": [
        "stop_set = set(stopwords.words('english'))\n",
        "exclude_set = set(string.punctuation)\n",
        "lemmatize = WordNetLemmatizer()\n",
        "def clean_doc(doc):\n",
        "    stop_free = \" \".join([i for i in doc.lower().split() if i not in stop_set])\n",
        "    punc_free = ''.join(i for i in stop_free if i not in exclude_set)\n",
        "    normalized = \" \".join(lemmatize.lemmatize(w) for w in punc_free.split())\n",
        "    return normalized\n",
        "cleaned = [clean_doc(doc).split() for doc in doc_complete]"
      ],
      "metadata": {
        "id": "PcVU6KgvTP70"
      },
      "execution_count": 5,
      "outputs": []
    },
    {
      "cell_type": "code",
      "source": [
        "print(cleaned\n",
        "      )"
      ],
      "metadata": {
        "colab": {
          "base_uri": "https://localhost:8080/"
        },
        "id": "8iHp9-w-TVcT",
        "outputId": "9f5769dd-339b-4b28-f30e-3aa7f802e397"
      },
      "execution_count": 6,
      "outputs": [
        {
          "output_type": "stream",
          "name": "stdout",
          "text": [
            "[['sugar', 'cause', 'blood', 'glucose', 'spike', 'plummet', 'unstable', 'blood', 'sugar', 'often', 'lead', 'mood', 'swing', 'fatigue', 'headache', 'craving', 'sugar', 'craving', 'set', 'stage', 'cycle', 'addiction', 'every', 'new', 'hit', 'sugar', 'make', 'feel', 'better', 'temporarily', 'but', 'hour', 'later', 'result', 'craving', 'hunger', 'flip', 'side', 'avoid', 'sugar', 'often', 'report', 'little', 'craving', 'sugary', 'thing', 'feeling', 'emotionally', 'balanced', 'energized'], ['sugar', 'increase', 'risk', 'obesity', 'diabetes', 'heart', 'disease', 'largescale', 'study', 'shown', 'highglycemic', 'food', 'those', 'quickly', 'affect', 'blood', 'sugar', 'including', 'food', 'containing', 'sugar', 'person', 'consumes', 'higher', 'risk', 'becoming', 'obese', 'developing', 'diabetes', 'heart', 'disease1', 'emerging', 'research', 'also', 'suggesting', 'connection', 'highglycemic', 'diet', 'many', 'different', 'form', 'cancer'], ['sugar', 'interferes', 'immune', 'function', 'research', 'human', 'subject', 'scant', 'animal', 'study', 'shown', 'sugar', 'suppresses', 'immune', 'response5', 'research', 'needed', 'understand', 'exact', 'mechanism', 'however', 'know', 'bacteria', 'yeast', 'feed', 'sugar', 'that', 'organism', 'get', 'balance', 'body', 'infection', 'illness', 'likely'], ['highsugar', 'diet', 'often', 'result', 'chromium', 'deficiency', 'sort', 'catch22', 'consume', 'lot', 'sugar', 'refined', 'carbohydrate', 'probably', 'dont', 'get', 'enough', 'trace', 'mineral', 'chromium', 'one', 'chromium', 'main', 'function', 'help', 'regulate', 'blood', 'sugar', 'scientist', 'estimate', '90', 'percent', 'american', 'dont', 'get', 'enough', 'chromium', 'chromium', 'found', 'variety', 'animal', 'food', 'seafood', 'plant', 'food', 'refining', 'starch', 'carbohydrate', 'rob', 'food', 'chromium', 'supply'], ['sugar', 'accelerates', 'aging', 'even', 'contributes', 'telltale', 'sign', 'aging', 'sagging', 'skin', 'sugar', 'consume', 'hitting', 'bloodstream', 'end', 'attaching', 'protein', 'process', 'called', 'glycation', 'new', 'molecular', 'structure', 'contribute', 'loss', 'elasticity', 'found', 'aging', 'body', 'tissue', 'skin', 'organ', 'arteries7', 'sugar', 'circulating', 'blood', 'faster', 'damage', 'take', 'hold'], ['sugar', 'cause', 'tooth', 'decay', 'lifethreatening', 'effect', 'sugar', 'sometimes', 'forget', 'basic', 'damage', 'doe', 'sits', 'teeth', 'creates', 'decay', 'efficiently', 'food', 'substance8', 'strong', 'visual', 'reminder', 'next', 'time', 'tooth', 'fairy', 'visit', 'try', 'old', 'toothinaglassofcoke', 'experiment—the', 'result', 'surely', 'convince', 'sugar', 'isnt', 'good', 'pearly', 'white'], ['sugar', 'affect', 'behavior', 'cognition', 'child', 'though', 'confirmed', 'million', 'parent', 'researcher', 'able', 'show', 'effect', 'sugar', 'childrens', 'behavior', 'possible', 'problem', 'research', 'compared', 'effect', 'sugarsweetened', 'drink', 'one', 'containing', 'artificial', 'sweetener10', 'may', 'kid', 'react', 'real', 'sugar', 'sugar', 'substitute', 'therefore', 'showing', 'difference', 'behavior', 'kid', 'ability', 'learn', '1979', '1983', '803', 'new', 'york', 'city', 'public', 'school', 'reduced', 'amount', 'sucrose', 'table', 'sugar', 'eliminated', 'artificial', 'color', 'flavor', 'two', 'preservative', 'school', 'lunch', 'breakfast', 'diet', 'policy', 'change', 'followed', '157', 'percent', 'increase', 'national', 'academic', 'ranking', 'previously', 'greatest', 'improvement', 'ever', 'seen', '17', 'percent'], ['sugar', 'increase', 'stress', 'stress', 'stress', 'hormone', 'level', 'rise', 'chemical', 'body', 'fightorflight', 'emergency', 'crew', 'sent', 'prepare', 'body', 'attack', 'escape', 'chemical', 'also', 'called', 'action', 'blood', 'sugar', 'low', 'example', 'bloodsugar', 'spike', 'say', 'eating', 'piece', 'birthday', 'cake', 'there', 'compensatory', 'dive', 'cause', 'body', 'release', 'stress', 'hormone', 'adrenaline', 'epinephrine', 'cortisol', 'one', 'main', 'thing', 'hormone', 'raise', 'blood', 'sugar', 'providing', 'body', 'quick', 'energy', 'boost', 'problem', 'is', 'helpful', 'hormone', 'make', 'u', 'feel', 'anxious', 'irritable', 'shaky'], ['sugar', 'take', 'place', 'important', 'nutrient', 'according', 'usda', 'data', 'people', 'consume', 'sugar', 'lowest', 'intake', 'essential', 'nutrients––especially', 'vitamin', 'a', 'vitamin', 'c', 'folate', 'vitamin', 'b12', 'calcium', 'phosphorous', 'magnesium', 'iron', 'ironically', 'consume', 'sugar', 'child', 'teenager', 'individual', 'need', 'nutrient', 'most12'], ['slashing', 'sugar', 'know', 'negative', 'impact', 'refined', 'sugar', 'body', 'mind', 'youll', 'want', 'careful', 'food', 'choose', 'first', 'step', 'getting', 'educated', 'sugar', 'lurks—believe', 'not', 'food', 'neednt', 'even', 'taste', 'sweet', 'loaded', 'sugar', 'come', 'convenience', 'packaged', 'food', 'let', 'ingredient', 'label', 'guide', 'aware', 'something', 'boast', 'low', 'carbs', 'diet', 'food', 'doesnt', 'mean', 'free', 'sugar', 'atkins', 'product', 'never', 'contain', 'added', 'sugar']]\n"
          ]
        }
      ]
    },
    {
      "cell_type": "markdown",
      "source": [
        "Create LDA model using gensim\n",
        "\n",
        "LDA(Latent Dirichlet allocation)"
      ],
      "metadata": {
        "id": "pRFcrkPySkKP"
      }
    },
    {
      "cell_type": "code",
      "source": [
        "dictionary = corpora.Dictionary(cleaned)"
      ],
      "metadata": {
        "id": "VJAvVb-GSfNf"
      },
      "execution_count": 7,
      "outputs": []
    },
    {
      "cell_type": "code",
      "source": [
        "doc_term_matrix = [dictionary.doc2bow(doc) for doc in cleaned]\n",
        "\n",
        "Lda = gensim.models.ldamodel.LdaModel\n",
        "\n",
        "ldamodel = Lda(doc_term_matrix, num_topics=5, id2word = dictionary, passes=300)\n",
        "\n",
        "topics = ldamodel.print_topics(num_topics=5, num_words=5)\n",
        "for  i in topics :\n",
        "    print (i)"
      ],
      "metadata": {
        "colab": {
          "base_uri": "https://localhost:8080/"
        },
        "id": "weiIes8FSvWA",
        "outputId": "bf7d23d5-72f4-423d-ab21-9018af2f45a4"
      },
      "execution_count": 8,
      "outputs": [
        {
          "output_type": "stream",
          "name": "stdout",
          "text": [
            "(0, '0.031*\"sugar\" + 0.021*\"research\" + 0.021*\"immune\" + 0.012*\"function\" + 0.012*\"animal\"')\n",
            "(1, '0.003*\"new\" + 0.003*\"sugar\" + 0.003*\"child\" + 0.003*\"blood\" + 0.003*\"effect\"')\n",
            "(2, '0.043*\"sugar\" + 0.035*\"craving\" + 0.018*\"blood\" + 0.018*\"often\" + 0.010*\"new\"')\n",
            "(3, '0.043*\"sugar\" + 0.017*\"behavior\" + 0.011*\"effect\" + 0.011*\"percent\" + 0.011*\"increase\"')\n",
            "(4, '0.057*\"sugar\" + 0.023*\"food\" + 0.017*\"body\" + 0.017*\"chromium\" + 0.012*\"hormone\"')\n"
          ]
        }
      ]
    },
    {
      "cell_type": "code",
      "source": [],
      "metadata": {
        "id": "YxjIJ7eYTABX"
      },
      "execution_count": 8,
      "outputs": []
    }
  ]
}