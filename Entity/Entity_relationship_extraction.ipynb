{
  "nbformat": 4,
  "nbformat_minor": 0,
  "metadata": {
    "colab": {
      "provenance": [],
      "authorship_tag": "ABX9TyPYTP0NpwFdOUMZSvNQKgUp",
      "include_colab_link": true
    },
    "kernelspec": {
      "name": "python3",
      "display_name": "Python 3"
    },
    "language_info": {
      "name": "python"
    }
  },
  "cells": [
    {
      "cell_type": "markdown",
      "metadata": {
        "id": "view-in-github",
        "colab_type": "text"
      },
      "source": [
        "<a href=\"https://colab.research.google.com/github/arikaran007/ML-Prediction/blob/main/Entity/Entity_relationship_extraction.ipynb\" target=\"_parent\"><img src=\"https://colab.research.google.com/assets/colab-badge.svg\" alt=\"Open In Colab\"/></a>"
      ]
    },
    {
      "cell_type": "code",
      "execution_count": 5,
      "metadata": {
        "colab": {
          "base_uri": "https://localhost:8080/"
        },
        "id": "oqLGJpkQT7hY",
        "outputId": "543bcfe0-68e5-45c3-abbe-80370158a74b"
      },
      "outputs": [
        {
          "output_type": "stream",
          "name": "stdout",
          "text": [
            "Avul Pakir Jainulabdeen Abdul Kalam was born on 15 October 1931\n"
          ]
        }
      ],
      "source": [
        "import nltk\n",
        "import pandas as pd\n",
        "text = pd.read_table('A.P.J.Abdul Kalam.txt',header=None,encoding='utf-8')\n",
        "text = text[0][0]\n",
        "print(text)"
      ]
    },
    {
      "cell_type": "code",
      "source": [
        "nltk.download('punkt')\n",
        "nltk.download('averaged_perceptron_tagger')"
      ],
      "metadata": {
        "colab": {
          "base_uri": "https://localhost:8080/"
        },
        "id": "CiVVHkUhZQnk",
        "outputId": "c47193e9-df49-47bf-feb5-9ff988a2f514"
      },
      "execution_count": 9,
      "outputs": [
        {
          "output_type": "stream",
          "name": "stderr",
          "text": [
            "[nltk_data] Downloading package punkt to /root/nltk_data...\n",
            "[nltk_data]   Package punkt is already up-to-date!\n",
            "[nltk_data] Downloading package averaged_perceptron_tagger to\n",
            "[nltk_data]     /root/nltk_data...\n",
            "[nltk_data]   Unzipping taggers/averaged_perceptron_tagger.zip.\n"
          ]
        },
        {
          "output_type": "execute_result",
          "data": {
            "text/plain": [
              "True"
            ]
          },
          "metadata": {},
          "execution_count": 9
        }
      ]
    },
    {
      "cell_type": "code",
      "source": [
        "words = nltk.word_tokenize(text)\n",
        "tagged_words = nltk.pos_tag(words)"
      ],
      "metadata": {
        "id": "m67DjVtYVEHV"
      },
      "execution_count": 10,
      "outputs": []
    },
    {
      "cell_type": "code",
      "source": [
        "chunkGram = r\"\"\"Date: {<CD>?<NNP><CD>}\n",
        "                Name: {<NNP>+}\"\"\"\n",
        "chunkParser = nltk.RegexpParser(chunkGram)\n",
        "chunked = chunkParser.parse(tagged_words)\n",
        "print(chunked)"
      ],
      "metadata": {
        "colab": {
          "base_uri": "https://localhost:8080/"
        },
        "id": "jP0BqlGPVHbj",
        "outputId": "d0eaed96-fa3e-470e-c962-b8e3b3ee8e2e"
      },
      "execution_count": 11,
      "outputs": [
        {
          "output_type": "stream",
          "name": "stdout",
          "text": [
            "(S\n",
            "  (Name Avul/NNP Pakir/NNP Jainulabdeen/NNP Abdul/NNP Kalam/NNP)\n",
            "  was/VBD\n",
            "  born/VBN\n",
            "  on/IN\n",
            "  (Date 15/CD October/NNP 1931/CD))\n"
          ]
        }
      ]
    },
    {
      "cell_type": "code",
      "source": [
        "from nltk.sem import relextract\n",
        "pairs = relextract.tree2semi_rel(chunked)\n",
        "print(pairs)"
      ],
      "metadata": {
        "colab": {
          "base_uri": "https://localhost:8080/"
        },
        "id": "p2L8ce1QVJxv",
        "outputId": "23b8ecbb-0df1-464a-e3f1-353531d07470"
      },
      "execution_count": 12,
      "outputs": [
        {
          "output_type": "stream",
          "name": "stdout",
          "text": [
            "[[[], Tree('Name', [('Avul', 'NNP'), ('Pakir', 'NNP'), ('Jainulabdeen', 'NNP'), ('Abdul', 'NNP'), ('Kalam', 'NNP')])], [[('was', 'VBD'), ('born', 'VBN'), ('on', 'IN')], Tree('Date', [('15', 'CD'), ('October', 'NNP'), ('1931', 'CD')])]]\n"
          ]
        }
      ]
    },
    {
      "cell_type": "code",
      "source": [
        "import re"
      ],
      "metadata": {
        "id": "SlUV3NbaZY-A"
      },
      "execution_count": 14,
      "outputs": []
    },
    {
      "cell_type": "code",
      "source": [
        "relationships = relextract.semi_rel2reldict(pairs)\n",
        "extracted_relationships = []\n",
        "for rel in relationships:\n",
        "     if rel['objclass'] == \"Date\" :\n",
        "        extracted_relationships.append(rel['subjtext']+\" \"+rel['filler']+\" \"+rel['objtext'])\n",
        "if extracted_relationships:\n",
        "    first_relationship = re.sub(r'/[A-Z]+',\"\",extracted_relationships[0])\n",
        "    print(first_relationship)\n"
      ],
      "metadata": {
        "id": "Sj30PeLjVOlB"
      },
      "execution_count": 17,
      "outputs": []
    },
    {
      "cell_type": "markdown",
      "source": [],
      "metadata": {
        "id": "9kaO6RpdbGro"
      }
    },
    {
      "cell_type": "code",
      "source": [],
      "metadata": {
        "id": "HEdApU01ZVQW"
      },
      "execution_count": null,
      "outputs": []
    }
  ]
}