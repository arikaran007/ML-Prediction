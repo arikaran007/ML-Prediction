{
  "nbformat": 4,
  "nbformat_minor": 0,
  "metadata": {
    "colab": {
      "provenance": [],
      "authorship_tag": "ABX9TyONML8zo0zhhCKlR219hYBJ",
      "include_colab_link": true
    },
    "kernelspec": {
      "name": "python3",
      "display_name": "Python 3"
    },
    "language_info": {
      "name": "python"
    }
  },
  "cells": [
    {
      "cell_type": "markdown",
      "metadata": {
        "id": "view-in-github",
        "colab_type": "text"
      },
      "source": [
        "<a href=\"https://colab.research.google.com/github/arikaran007/ML-Prediction/blob/main/Tagging/nltk_tagging.ipynb\" target=\"_parent\"><img src=\"https://colab.research.google.com/assets/colab-badge.svg\" alt=\"Open In Colab\"/></a>"
      ]
    },
    {
      "cell_type": "code",
      "execution_count": null,
      "metadata": {
        "id": "M96uCI5IKKRW"
      },
      "outputs": [],
      "source": [
        "from nltk import word_tokenize\n",
        "from nltk import pos_tag"
      ]
    },
    {
      "cell_type": "code",
      "source": [
        "import nltk\n",
        "nltk.download('punkt')\n",
        "nltk.download('averaged_perceptron_tagger')\n",
        "nltk.download('brown')"
      ],
      "metadata": {
        "colab": {
          "base_uri": "https://localhost:8080/"
        },
        "id": "WbgeGsOWLLLv",
        "outputId": "c72954c3-86cf-4438-f859-c80135685a3b"
      },
      "execution_count": null,
      "outputs": [
        {
          "output_type": "stream",
          "name": "stderr",
          "text": [
            "[nltk_data] Downloading package punkt to /root/nltk_data...\n",
            "[nltk_data]   Package punkt is already up-to-date!\n",
            "[nltk_data] Downloading package averaged_perceptron_tagger to\n",
            "[nltk_data]     /root/nltk_data...\n",
            "[nltk_data]   Package averaged_perceptron_tagger is already up-to-\n",
            "[nltk_data]       date!\n",
            "[nltk_data] Downloading package brown to /root/nltk_data...\n",
            "[nltk_data]   Package brown is already up-to-date!\n"
          ]
        },
        {
          "output_type": "execute_result",
          "data": {
            "text/plain": [
              "True"
            ]
          },
          "metadata": {},
          "execution_count": 3
        }
      ]
    },
    {
      "cell_type": "code",
      "source": [
        "sent1 = \"The race officials refused to permit the team to race today\"\n",
        "print(pos_tag(word_tokenize(sent1)))"
      ],
      "metadata": {
        "colab": {
          "base_uri": "https://localhost:8080/"
        },
        "id": "oE9JIbyaKX2O",
        "outputId": "d5e4d280-cfaa-4f4f-95e2-1b30eee4a2a3"
      },
      "execution_count": null,
      "outputs": [
        {
          "output_type": "stream",
          "name": "stdout",
          "text": [
            "[('The', 'DT'), ('race', 'NN'), ('officials', 'NNS'), ('refused', 'VBD'), ('to', 'TO'), ('permit', 'VB'), ('the', 'DT'), ('team', 'NN'), ('to', 'TO'), ('race', 'NN'), ('today', 'NN')]\n"
          ]
        }
      ]
    },
    {
      "cell_type": "code",
      "source": [
        "from nltk.corpus import brown\n",
        "from nltk import word_tokenize\n",
        "from nltk import pos_tag"
      ],
      "metadata": {
        "id": "PV0Hj3YrKaCS"
      },
      "execution_count": null,
      "outputs": []
    },
    {
      "cell_type": "code",
      "source": [
        "tags = [tag for (word,tag)in brown.tagged_words()]\n",
        "most_common_word = nltk.FreqDist(tags).max()\n",
        "print(most_common_word)"
      ],
      "metadata": {
        "colab": {
          "base_uri": "https://localhost:8080/"
        },
        "id": "cuG9OMnwLRF-",
        "outputId": "4dcd9e54-3e48-4833-ac57-2c3563e7d2f4"
      },
      "execution_count": null,
      "outputs": [
        {
          "output_type": "stream",
          "name": "stdout",
          "text": [
            "NN\n"
          ]
        }
      ]
    },
    {
      "cell_type": "code",
      "source": [
        "text  = \"\"\"Barack Obama (born August 4, 1961, Honolulu, Hawaii, U.S.) 44th president of the United States (2009–17) and\n",
        "the first African American to hold the office. Before winning the presidency, Obama represented Illinois in the U.S. Senate (2005–08).\n",
        "He was the third African American to be elected to that body since the end of Reconstruction (1877).\n",
        "In 2009 he was awarded the Nobel Peace Prize “for his extraordinary efforts to strengthen international diplomacy and cooperation between peoples.”\"\"\""
      ],
      "metadata": {
        "id": "FjEygol-NolS"
      },
      "execution_count": null,
      "outputs": []
    },
    {
      "cell_type": "code",
      "source": [
        "tokenised_barack = word_tokenize(text)\n",
        "print(tokenised_barack)"
      ],
      "metadata": {
        "colab": {
          "base_uri": "https://localhost:8080/"
        },
        "id": "iYN2uowMNxsM",
        "outputId": "1677ee24-bc7c-45c3-a139-a1951d7f903b"
      },
      "execution_count": null,
      "outputs": [
        {
          "output_type": "stream",
          "name": "stdout",
          "text": [
            "['Barack', 'Obama', '(', 'born', 'August', '4', ',', '1961', ',', 'Honolulu', ',', 'Hawaii', ',', 'U.S.', ')', '44th', 'president', 'of', 'the', 'United', 'States', '(', '2009–17', ')', 'and', 'the', 'first', 'African', 'American', 'to', 'hold', 'the', 'office', '.', 'Before', 'winning', 'the', 'presidency', ',', 'Obama', 'represented', 'Illinois', 'in', 'the', 'U.S.', 'Senate', '(', '2005–08', ')', '.', 'He', 'was', 'the', 'third', 'African', 'American', 'to', 'be', 'elected', 'to', 'that', 'body', 'since', 'the', 'end', 'of', 'Reconstruction', '(', '1877', ')', '.', 'In', '2009', 'he', 'was', 'awarded', 'the', 'Nobel', 'Peace', 'Prize', '“', 'for', 'his', 'extraordinary', 'efforts', 'to', 'strengthen', 'international', 'diplomacy', 'and', 'cooperation', 'between', 'peoples', '.', '”']\n"
          ]
        }
      ]
    },
    {
      "cell_type": "code",
      "source": [
        "from nltk import DefaultTagger\n",
        "\n",
        "default_tagger  = DefaultTagger(most_common_word)\n",
        "def_tagged_barack = default_tagger.tag(tokenised_barack)\n",
        "print(def_tagged_barack)\n"
      ],
      "metadata": {
        "colab": {
          "base_uri": "https://localhost:8080/"
        },
        "id": "noVcgMVVMRCr",
        "outputId": "939785ff-9f27-4287-8aba-925990405867"
      },
      "execution_count": null,
      "outputs": [
        {
          "output_type": "stream",
          "name": "stdout",
          "text": [
            "[('Barack', 'NN'), ('Obama', 'NN'), ('(', 'NN'), ('born', 'NN'), ('August', 'NN'), ('4', 'NN'), (',', 'NN'), ('1961', 'NN'), (',', 'NN'), ('Honolulu', 'NN'), (',', 'NN'), ('Hawaii', 'NN'), (',', 'NN'), ('U.S.', 'NN'), (')', 'NN'), ('44th', 'NN'), ('president', 'NN'), ('of', 'NN'), ('the', 'NN'), ('United', 'NN'), ('States', 'NN'), ('(', 'NN'), ('2009–17', 'NN'), (')', 'NN'), ('and', 'NN'), ('the', 'NN'), ('first', 'NN'), ('African', 'NN'), ('American', 'NN'), ('to', 'NN'), ('hold', 'NN'), ('the', 'NN'), ('office', 'NN'), ('.', 'NN'), ('Before', 'NN'), ('winning', 'NN'), ('the', 'NN'), ('presidency', 'NN'), (',', 'NN'), ('Obama', 'NN'), ('represented', 'NN'), ('Illinois', 'NN'), ('in', 'NN'), ('the', 'NN'), ('U.S.', 'NN'), ('Senate', 'NN'), ('(', 'NN'), ('2005–08', 'NN'), (')', 'NN'), ('.', 'NN'), ('He', 'NN'), ('was', 'NN'), ('the', 'NN'), ('third', 'NN'), ('African', 'NN'), ('American', 'NN'), ('to', 'NN'), ('be', 'NN'), ('elected', 'NN'), ('to', 'NN'), ('that', 'NN'), ('body', 'NN'), ('since', 'NN'), ('the', 'NN'), ('end', 'NN'), ('of', 'NN'), ('Reconstruction', 'NN'), ('(', 'NN'), ('1877', 'NN'), (')', 'NN'), ('.', 'NN'), ('In', 'NN'), ('2009', 'NN'), ('he', 'NN'), ('was', 'NN'), ('awarded', 'NN'), ('the', 'NN'), ('Nobel', 'NN'), ('Peace', 'NN'), ('Prize', 'NN'), ('“', 'NN'), ('for', 'NN'), ('his', 'NN'), ('extraordinary', 'NN'), ('efforts', 'NN'), ('to', 'NN'), ('strengthen', 'NN'), ('international', 'NN'), ('diplomacy', 'NN'), ('and', 'NN'), ('cooperation', 'NN'), ('between', 'NN'), ('peoples', 'NN'), ('.', 'NN'), ('”', 'NN')]\n"
          ]
        }
      ]
    },
    {
      "cell_type": "markdown",
      "source": [
        "Lookup Taggers"
      ],
      "metadata": {
        "id": "0puPMK_OgxVU"
      }
    },
    {
      "cell_type": "code",
      "source": [
        "sent1=\"the quick brown fox jumps over the lazy dog\"\n",
        "train_tag  = pos_tag(word_tokenize(sent1))\n",
        "print(train_tag)"
      ],
      "metadata": {
        "colab": {
          "base_uri": "https://localhost:8080/"
        },
        "id": "KstmhrwThwwn",
        "outputId": "b6620e1b-13f0-4bd4-f12f-301c54a081f9"
      },
      "execution_count": null,
      "outputs": [
        {
          "output_type": "stream",
          "name": "stdout",
          "text": [
            "[('the', 'DT'), ('quick', 'JJ'), ('brown', 'NN'), ('fox', 'NN'), ('jumps', 'VBZ'), ('over', 'IN'), ('the', 'DT'), ('lazy', 'JJ'), ('dog', 'NN')]\n"
          ]
        }
      ]
    },
    {
      "cell_type": "code",
      "source": [
        "# use NgramTagger\n",
        "\n",
        "ngram_tag = nltk.NgramTagger(n=2,train=[train_tag])\n",
        "print(ngram_tag)"
      ],
      "metadata": {
        "colab": {
          "base_uri": "https://localhost:8080/"
        },
        "id": "j40xjVRqiAa-",
        "outputId": "e2da3d56-f193-4187-bf9d-06e71f5289c9"
      },
      "execution_count": null,
      "outputs": [
        {
          "output_type": "stream",
          "name": "stdout",
          "text": [
            "<NgramTagger: size=9>\n"
          ]
        }
      ]
    },
    {
      "cell_type": "code",
      "source": [
        "sent2 = \"the lazy dog was jumped over by the quick brown fox\"\n",
        "sent2_tags = ngram_tag.tag(word_tokenize(sent2))\n",
        "print(sent2_tags)"
      ],
      "metadata": {
        "colab": {
          "base_uri": "https://localhost:8080/"
        },
        "id": "Os97qEyIiVST",
        "outputId": "24adc3ae-1ece-4996-f893-f503d3de4722"
      },
      "execution_count": null,
      "outputs": [
        {
          "output_type": "stream",
          "name": "stdout",
          "text": [
            "[('the', 'DT'), ('lazy', 'JJ'), ('dog', 'NN'), ('was', None), ('jumped', None), ('over', None), ('by', None), ('the', None), ('quick', None), ('brown', None), ('fox', None)]\n"
          ]
        }
      ]
    },
    {
      "cell_type": "code",
      "source": [
        "print(list(nltk.ngrams(pos_tag(word_tokenize(sent1)),n=2)))"
      ],
      "metadata": {
        "colab": {
          "base_uri": "https://localhost:8080/"
        },
        "id": "ernDfF7Wih02",
        "outputId": "d22b15c8-5e38-475e-c8b9-1be4348471d9"
      },
      "execution_count": null,
      "outputs": [
        {
          "output_type": "stream",
          "name": "stdout",
          "text": [
            "[(('the', 'DT'), ('quick', 'JJ')), (('quick', 'JJ'), ('brown', 'NN')), (('brown', 'NN'), ('fox', 'NN')), (('fox', 'NN'), ('jumps', 'VBZ')), (('jumps', 'VBZ'), ('over', 'IN')), (('over', 'IN'), ('the', 'DT')), (('the', 'DT'), ('lazy', 'JJ')), (('lazy', 'JJ'), ('dog', 'NN'))]\n"
          ]
        }
      ]
    },
    {
      "cell_type": "code",
      "source": [
        "print(list(nltk.ngrams(word_tokenize(sent2),n=2)))"
      ],
      "metadata": {
        "colab": {
          "base_uri": "https://localhost:8080/"
        },
        "id": "ZL6XglzDiywU",
        "outputId": "f79cfa58-d60a-441a-fd88-de9825786388"
      },
      "execution_count": null,
      "outputs": [
        {
          "output_type": "stream",
          "name": "stdout",
          "text": [
            "[('the', 'lazy'), ('lazy', 'dog'), ('dog', 'was'), ('was', 'jumped'), ('jumped', 'over'), ('over', 'by'), ('by', 'the'), ('the', 'quick'), ('quick', 'brown'), ('brown', 'fox')]\n"
          ]
        }
      ]
    },
    {
      "cell_type": "markdown",
      "source": [
        "UniGram"
      ],
      "metadata": {
        "id": "4KGuGY3Hj15K"
      }
    },
    {
      "cell_type": "code",
      "source": [
        "barack = \"\"\"Barack Hussein Obama II born August 4, 1961) is an American politician\n",
        "who served as the 44th President of\n",
        "the United States from January 20, 2009, to January 20, 2017.\n",
        "A member of the Democratic Party, he was the\n",
        "first African American to assume the presidency and previously\n",
        "served as a United States Senator from Illinois (2005–2008).\"\"\"\n",
        "bush = \"\"\"George Walker Bush (born July 6, 1946) is an American politician who served as the 43rd President\n",
        " of the United States from 2001 to 2009.\n",
        "He had previously served as the 46th Governor of Texas from 1995 to 2000.\n",
        "Bush was born New Haven, Connecticut, and grew up in Texas.\n",
        "After graduating from Yale University in 1968 and Harvard Business School in 1975, he worked in the oil industry.\n",
        "Bush married Laura Welch in 1977 and unsuccessfully ran for the U.S. House of Representatives shortly thereafter.\n",
        "He later co-owned the Texas Rangers baseball team before defeating Ann Richards in the 1994 Texas gubernatorial election.\n",
        "Bush was elected President of the United States in 2000 when he defeated Democratic incumbent\n",
        "Vice President Al Gore after a close and controversial win that involved a stopped recount in Florida.\n",
        "He became the fourth person to be elected president while receiving fewer popular votes than his opponent.\n",
        "Bush is a member of a prominent political family and is the eldest son of Barbara and George H. W. Bush,\n",
        "the 41st President of the United States.\n",
        "He is only the second president to assume the nation's highest office after his father, following the footsteps\n",
        " of John Adams and his son, John Quincy Adams.\n",
        "His brother, Jeb Bush, a former Governor of Florida, was a candidate for the Republican presidential nomination\n",
        " in the 2016 presidential election.\n",
        "His paternal grandfather, Prescott Bush, was a U.S. Senator from Connecticut.\"\"\"\n"
      ],
      "metadata": {
        "id": "a8in2O-bjSZy"
      },
      "execution_count": null,
      "outputs": []
    },
    {
      "cell_type": "code",
      "source": [
        "post_tag_bar = pos_tag(word_tokenize(barack))\n",
        "post_tag_bus = pos_tag(word_tokenize(bush))"
      ],
      "metadata": {
        "id": "E122GuiRj4MO"
      },
      "execution_count": null,
      "outputs": []
    },
    {
      "cell_type": "code",
      "source": [
        "trump = \"\"\"Donald John Trump (born June 14, 1946) is the 45th and current President of the United States.\n",
        "Before entering politics, he was a businessman and television personality.\n",
        "Trump was born and raised in the New York City borough of Queens, and received an economics degree from the\n",
        " Wharton School of the University of Pennsylvania.\n",
        "He took charge of his family's real estate business in 1971, renamed it The Trump Organization, and expanded\n",
        "it from Queens and Brooklyn into Manhattan.\n",
        "The company built or renovated skyscrapers, hotels, casinos, and golf courses.\n",
        "Trump later started various side ventures, including licensing his name for real estate and consumer products.\n",
        "He managed the company until his 2017 inauguration.\n",
        "He co-authored several books, including The Art of the Deal. He owned the Miss Universe and Miss USA beauty\n",
        "pageants from 1996 to 2015, and he produced and hosted the reality television show The Apprentice from 2003 to 2015.\n",
        "Forbes estimates his net worth to be $3.1 billion.\"\"\""
      ],
      "metadata": {
        "id": "Py0qjmuhkjiH"
      },
      "execution_count": null,
      "outputs": []
    },
    {
      "cell_type": "code",
      "source": [
        "unigram = nltk.UnigramTagger(train=[post_tag_bar,post_tag_bus])\n",
        "trump_tag = unigram.tag(word_tokenize(trump))\n",
        "print(trump_tag)"
      ],
      "metadata": {
        "colab": {
          "base_uri": "https://localhost:8080/"
        },
        "id": "C1uFC3gKkmbm",
        "outputId": "ec082657-79cb-4fd6-d4f5-0a83d9c63435"
      },
      "execution_count": null,
      "outputs": [
        {
          "output_type": "stream",
          "name": "stdout",
          "text": [
            "[('Donald', None), ('John', 'NNP'), ('Trump', None), ('(', '('), ('born', 'VBN'), ('June', None), ('14', None), (',', ','), ('1946', 'CD'), (')', ')'), ('is', 'VBZ'), ('the', 'DT'), ('45th', None), ('and', 'CC'), ('current', None), ('President', 'NNP'), ('of', 'IN'), ('the', 'DT'), ('United', 'NNP'), ('States', 'NNPS'), ('.', '.'), ('Before', None), ('entering', None), ('politics', None), (',', ','), ('he', 'PRP'), ('was', 'VBD'), ('a', 'DT'), ('businessman', None), ('and', 'CC'), ('television', None), ('personality', None), ('.', '.'), ('Trump', None), ('was', 'VBD'), ('born', 'VBN'), ('and', 'CC'), ('raised', None), ('in', 'IN'), ('the', 'DT'), ('New', 'NNP'), ('York', None), ('City', None), ('borough', None), ('of', 'IN'), ('Queens', None), (',', ','), ('and', 'CC'), ('received', None), ('an', 'DT'), ('economics', None), ('degree', None), ('from', 'IN'), ('the', 'DT'), ('Wharton', None), ('School', 'NNP'), ('of', 'IN'), ('the', 'DT'), ('University', 'NNP'), ('of', 'IN'), ('Pennsylvania', None), ('.', '.'), ('He', 'PRP'), ('took', None), ('charge', None), ('of', 'IN'), ('his', 'PRP$'), ('family', 'NN'), (\"'s\", 'POS'), ('real', None), ('estate', None), ('business', None), ('in', 'IN'), ('1971', None), (',', ','), ('renamed', None), ('it', None), ('The', None), ('Trump', None), ('Organization', None), (',', ','), ('and', 'CC'), ('expanded', None), ('it', None), ('from', 'IN'), ('Queens', None), ('and', 'CC'), ('Brooklyn', None), ('into', None), ('Manhattan', None), ('.', '.'), ('The', None), ('company', None), ('built', None), ('or', None), ('renovated', None), ('skyscrapers', None), (',', ','), ('hotels', None), (',', ','), ('casinos', None), (',', ','), ('and', 'CC'), ('golf', None), ('courses', None), ('.', '.'), ('Trump', None), ('later', 'RB'), ('started', None), ('various', None), ('side', None), ('ventures', None), (',', ','), ('including', None), ('licensing', None), ('his', 'PRP$'), ('name', None), ('for', 'IN'), ('real', None), ('estate', None), ('and', 'CC'), ('consumer', None), ('products', None), ('.', '.'), ('He', 'PRP'), ('managed', None), ('the', 'DT'), ('company', None), ('until', None), ('his', 'PRP$'), ('2017', 'CD'), ('inauguration', None), ('.', '.'), ('He', 'PRP'), ('co-authored', None), ('several', None), ('books', None), (',', ','), ('including', None), ('The', None), ('Art', None), ('of', 'IN'), ('the', 'DT'), ('Deal', None), ('.', '.'), ('He', 'PRP'), ('owned', None), ('the', 'DT'), ('Miss', None), ('Universe', None), ('and', 'CC'), ('Miss', None), ('USA', None), ('beauty', None), ('pageants', None), ('from', 'IN'), ('1996', None), ('to', 'TO'), ('2015', None), (',', ','), ('and', 'CC'), ('he', 'PRP'), ('produced', None), ('and', 'CC'), ('hosted', None), ('the', 'DT'), ('reality', None), ('television', None), ('show', None), ('The', None), ('Apprentice', None), ('from', 'IN'), ('2003', None), ('to', 'TO'), ('2015', None), ('.', '.'), ('Forbes', None), ('estimates', None), ('his', 'PRP$'), ('net', None), ('worth', None), ('to', 'TO'), ('be', 'VB'), ('$', None), ('3.1', None), ('billion', None), ('.', '.')]\n"
          ]
        }
      ]
    },
    {
      "cell_type": "markdown",
      "source": [
        "Tagging pipeline and backoff\n",
        "\n",
        "Having studied different taggers like DefaultTagger, RegexpTagger and  NgramTagger, let us now see how we can combine them together to automatically tag text data"
      ],
      "metadata": {
        "id": "ZXbcFDLkmAOl"
      }
    },
    {
      "cell_type": "code",
      "source": [
        "default_tagger  = DefaultTagger('NN')\n",
        "patterns = [\n",
        "     (r'.*\\'s$', 'NN$'),               # possessive nouns\n",
        "     (r'.*es$', 'VBZ'),                # 3rd singular present\n",
        "     (r'^-?[0-9]+(.[0-9]+)?$', 'CD'),  # cardinal numbers\n",
        "     (r'[Aa][Nn][Dd]','CC'),           # conjugate and\n",
        "     (r'.*ed$', 'VBD'),                # simple past\n",
        "     (r',',','),                        # comma\n",
        "     (r'.*ould$', 'MD'),               # modals\n",
        "     (r'.*ing$', 'VBG'),               # gerunds\n",
        "     (r'.*s$', 'NNS'),                 # plural nouns\n",
        "]"
      ],
      "metadata": {
        "id": "5yEe-9wklcjS"
      },
      "execution_count": null,
      "outputs": []
    },
    {
      "cell_type": "code",
      "source": [
        "regexp_tagger = nltk.RegexpTagger(patterns,backoff=default_tagger)\n",
        "unigram_tag = nltk.UnigramTagger(train=[post_tag_bar,post_tag_bus],backoff=regexp_tagger)\n",
        "trump_tags = unigram_tag.tag(word_tokenize(trump))\n",
        "print(trump_tags)\n"
      ],
      "metadata": {
        "colab": {
          "base_uri": "https://localhost:8080/"
        },
        "id": "PUA8PRSenFFg",
        "outputId": "9bd3bfd0-1c45-407b-e6a2-27870f5ec0c1"
      },
      "execution_count": null,
      "outputs": [
        {
          "output_type": "stream",
          "name": "stdout",
          "text": [
            "[('Donald', 'NN'), ('John', 'NNP'), ('Trump', 'NN'), ('(', '('), ('born', 'VBN'), ('June', 'NN'), ('14', 'CD'), (',', ','), ('1946', 'CD'), (')', ')'), ('is', 'VBZ'), ('the', 'DT'), ('45th', 'NN'), ('and', 'CC'), ('current', 'NN'), ('President', 'NNP'), ('of', 'IN'), ('the', 'DT'), ('United', 'NNP'), ('States', 'NNPS'), ('.', '.'), ('Before', 'NN'), ('entering', 'VBG'), ('politics', 'NNS'), (',', ','), ('he', 'PRP'), ('was', 'VBD'), ('a', 'DT'), ('businessman', 'NN'), ('and', 'CC'), ('television', 'NN'), ('personality', 'NN'), ('.', '.'), ('Trump', 'NN'), ('was', 'VBD'), ('born', 'VBN'), ('and', 'CC'), ('raised', 'VBD'), ('in', 'IN'), ('the', 'DT'), ('New', 'NNP'), ('York', 'NN'), ('City', 'NN'), ('borough', 'NN'), ('of', 'IN'), ('Queens', 'NNS'), (',', ','), ('and', 'CC'), ('received', 'VBD'), ('an', 'DT'), ('economics', 'NNS'), ('degree', 'NN'), ('from', 'IN'), ('the', 'DT'), ('Wharton', 'NN'), ('School', 'NNP'), ('of', 'IN'), ('the', 'DT'), ('University', 'NNP'), ('of', 'IN'), ('Pennsylvania', 'NN'), ('.', '.'), ('He', 'PRP'), ('took', 'NN'), ('charge', 'NN'), ('of', 'IN'), ('his', 'PRP$'), ('family', 'NN'), (\"'s\", 'POS'), ('real', 'NN'), ('estate', 'NN'), ('business', 'NNS'), ('in', 'IN'), ('1971', 'CD'), (',', ','), ('renamed', 'VBD'), ('it', 'NN'), ('The', 'NN'), ('Trump', 'NN'), ('Organization', 'NN'), (',', ','), ('and', 'CC'), ('expanded', 'VBD'), ('it', 'NN'), ('from', 'IN'), ('Queens', 'NNS'), ('and', 'CC'), ('Brooklyn', 'NN'), ('into', 'NN'), ('Manhattan', 'NN'), ('.', '.'), ('The', 'NN'), ('company', 'NN'), ('built', 'NN'), ('or', 'NN'), ('renovated', 'VBD'), ('skyscrapers', 'NNS'), (',', ','), ('hotels', 'NNS'), (',', ','), ('casinos', 'NNS'), (',', ','), ('and', 'CC'), ('golf', 'NN'), ('courses', 'VBZ'), ('.', '.'), ('Trump', 'NN'), ('later', 'RB'), ('started', 'VBD'), ('various', 'NNS'), ('side', 'NN'), ('ventures', 'VBZ'), (',', ','), ('including', 'VBG'), ('licensing', 'VBG'), ('his', 'PRP$'), ('name', 'NN'), ('for', 'IN'), ('real', 'NN'), ('estate', 'NN'), ('and', 'CC'), ('consumer', 'NN'), ('products', 'NNS'), ('.', '.'), ('He', 'PRP'), ('managed', 'VBD'), ('the', 'DT'), ('company', 'NN'), ('until', 'NN'), ('his', 'PRP$'), ('2017', 'CD'), ('inauguration', 'NN'), ('.', '.'), ('He', 'PRP'), ('co-authored', 'VBD'), ('several', 'NN'), ('books', 'NNS'), (',', ','), ('including', 'VBG'), ('The', 'NN'), ('Art', 'NN'), ('of', 'IN'), ('the', 'DT'), ('Deal', 'NN'), ('.', '.'), ('He', 'PRP'), ('owned', 'VBD'), ('the', 'DT'), ('Miss', 'NNS'), ('Universe', 'NN'), ('and', 'CC'), ('Miss', 'NNS'), ('USA', 'NN'), ('beauty', 'NN'), ('pageants', 'NNS'), ('from', 'IN'), ('1996', 'CD'), ('to', 'TO'), ('2015', 'CD'), (',', ','), ('and', 'CC'), ('he', 'PRP'), ('produced', 'VBD'), ('and', 'CC'), ('hosted', 'VBD'), ('the', 'DT'), ('reality', 'NN'), ('television', 'NN'), ('show', 'NN'), ('The', 'NN'), ('Apprentice', 'NN'), ('from', 'IN'), ('2003', 'CD'), ('to', 'TO'), ('2015', 'CD'), ('.', '.'), ('Forbes', 'VBZ'), ('estimates', 'VBZ'), ('his', 'PRP$'), ('net', 'NN'), ('worth', 'NN'), ('to', 'TO'), ('be', 'VB'), ('$', 'NN'), ('3.1', 'CD'), ('billion', 'NN'), ('.', '.')]\n"
          ]
        }
      ]
    },
    {
      "cell_type": "code",
      "source": [],
      "metadata": {
        "id": "lWyhQu3Inaj9"
      },
      "execution_count": null,
      "outputs": []
    }
  ]
}